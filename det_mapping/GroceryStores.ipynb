{
 "cells": [
  {
   "cell_type": "code",
   "execution_count": 1,
   "metadata": {},
   "outputs": [],
   "source": [
    "import pandas as pd"
   ]
  },
  {
   "cell_type": "code",
   "execution_count": 3,
   "metadata": {},
   "outputs": [],
   "source": [
    "df = pd.read_csv(\"Grocery_Stores_in_City_of_Detroit_Public_View.csv\")"
   ]
  },
  {
   "cell_type": "code",
   "execution_count": 4,
   "metadata": {},
   "outputs": [
    {
     "data": {
      "text/html": [
       "<div>\n",
       "<style scoped>\n",
       "    .dataframe tbody tr th:only-of-type {\n",
       "        vertical-align: middle;\n",
       "    }\n",
       "\n",
       "    .dataframe tbody tr th {\n",
       "        vertical-align: top;\n",
       "    }\n",
       "\n",
       "    .dataframe thead th {\n",
       "        text-align: right;\n",
       "    }\n",
       "</style>\n",
       "<table border=\"1\" class=\"dataframe\">\n",
       "  <thead>\n",
       "    <tr style=\"text-align: right;\">\n",
       "      <th></th>\n",
       "      <th>Store_Name</th>\n",
       "      <th>Address</th>\n",
       "      <th>City</th>\n",
       "      <th>Zip_Code</th>\n",
       "      <th>New_Store_Hours</th>\n",
       "      <th>Senior_Hours</th>\n",
       "      <th>Details_on_Senior_Hours__days_t</th>\n",
       "      <th>Curbside_Pick_Up</th>\n",
       "      <th>ObjectId</th>\n",
       "      <th>New_closed</th>\n",
       "      <th>New_opening</th>\n",
       "    </tr>\n",
       "  </thead>\n",
       "  <tbody>\n",
       "    <tr>\n",
       "      <th>0</th>\n",
       "      <td>Superland Market</td>\n",
       "      <td>17021 SCHOOLCRAFT</td>\n",
       "      <td>Detroit</td>\n",
       "      <td>48227</td>\n",
       "      <td>8AM - 9AM</td>\n",
       "      <td>unknown</td>\n",
       "      <td>unknown</td>\n",
       "      <td>unknown</td>\n",
       "      <td>1</td>\n",
       "      <td>1587085200000</td>\n",
       "      <td>1587038400000</td>\n",
       "    </tr>\n",
       "    <tr>\n",
       "      <th>1</th>\n",
       "      <td>Glory Foods Supermarket</td>\n",
       "      <td>19150 TELEGRAPH RD</td>\n",
       "      <td>Detroit</td>\n",
       "      <td>48219</td>\n",
       "      <td>10AM - 7PM</td>\n",
       "      <td>No</td>\n",
       "      <td>No</td>\n",
       "      <td>No</td>\n",
       "      <td>2</td>\n",
       "      <td>1587078000000</td>\n",
       "      <td>1587045600000</td>\n",
       "    </tr>\n",
       "    <tr>\n",
       "      <th>2</th>\n",
       "      <td>Mike's Fresh Market</td>\n",
       "      <td>14383 GRATIOT</td>\n",
       "      <td>Detroit</td>\n",
       "      <td>48205</td>\n",
       "      <td>10AM - 6PM</td>\n",
       "      <td>unknown</td>\n",
       "      <td>unknown</td>\n",
       "      <td>unknown</td>\n",
       "      <td>3</td>\n",
       "      <td>1587074400000</td>\n",
       "      <td>1587045600000</td>\n",
       "    </tr>\n",
       "    <tr>\n",
       "      <th>3</th>\n",
       "      <td>Good Stuff Market</td>\n",
       "      <td>1444 Michigan Ave, Detroit, MI</td>\n",
       "      <td>NaN</td>\n",
       "      <td>48216</td>\n",
       "      <td>10AM - 9PM</td>\n",
       "      <td>unknown</td>\n",
       "      <td>unknown</td>\n",
       "      <td>unknown</td>\n",
       "      <td>4</td>\n",
       "      <td>1587085200000</td>\n",
       "      <td>1587045600000</td>\n",
       "    </tr>\n",
       "    <tr>\n",
       "      <th>4</th>\n",
       "      <td>Meijer</td>\n",
       "      <td>1301 W 8 MI RD</td>\n",
       "      <td>Detroit</td>\n",
       "      <td>48220</td>\n",
       "      <td>6AM - 11PM</td>\n",
       "      <td>unknown</td>\n",
       "      <td>unknown</td>\n",
       "      <td>unknown</td>\n",
       "      <td>5</td>\n",
       "      <td>1587092400000</td>\n",
       "      <td>1587031200000</td>\n",
       "    </tr>\n",
       "  </tbody>\n",
       "</table>\n",
       "</div>"
      ],
      "text/plain": [
       "                Store_Name                         Address     City  Zip_Code  \\\n",
       "0         Superland Market               17021 SCHOOLCRAFT  Detroit     48227   \n",
       "1  Glory Foods Supermarket              19150 TELEGRAPH RD  Detroit     48219   \n",
       "2      Mike's Fresh Market                   14383 GRATIOT  Detroit     48205   \n",
       "3        Good Stuff Market  1444 Michigan Ave, Detroit, MI      NaN     48216   \n",
       "4                   Meijer                  1301 W 8 MI RD  Detroit     48220   \n",
       "\n",
       "  New_Store_Hours Senior_Hours Details_on_Senior_Hours__days_t  \\\n",
       "0       8AM - 9AM      unknown                         unknown   \n",
       "1      10AM - 7PM           No                              No   \n",
       "2      10AM - 6PM      unknown                         unknown   \n",
       "3      10AM - 9PM      unknown                         unknown   \n",
       "4      6AM - 11PM      unknown                         unknown   \n",
       "\n",
       "  Curbside_Pick_Up  ObjectId     New_closed    New_opening  \n",
       "0          unknown         1  1587085200000  1587038400000  \n",
       "1               No         2  1587078000000  1587045600000  \n",
       "2          unknown         3  1587074400000  1587045600000  \n",
       "3          unknown         4  1587085200000  1587045600000  \n",
       "4          unknown         5  1587092400000  1587031200000  "
      ]
     },
     "execution_count": 4,
     "metadata": {},
     "output_type": "execute_result"
    }
   ],
   "source": [
    "df.head()"
   ]
  },
  {
   "cell_type": "code",
   "execution_count": 9,
   "metadata": {},
   "outputs": [
    {
     "data": {
      "text/plain": [
       "62"
      ]
     },
     "execution_count": 9,
     "metadata": {},
     "output_type": "execute_result"
    }
   ],
   "source": [
    "len(set(df[\"Store_Name\"].values))"
   ]
  },
  {
   "cell_type": "code",
   "execution_count": 13,
   "metadata": {},
   "outputs": [
    {
     "data": {
      "text/plain": [
       "Save-a-Lot                                              6\n",
       "Glory Foods Supermarket                                 4\n",
       "Aldi                                                    3\n",
       "Meijer                                                  2\n",
       "Mike's Fresh Market                                     2\n",
       "Imperial Fresh                                          1\n",
       "Family Foods Superstore                                 1\n",
       "Food Pride Market                                       1\n",
       "Greenfield Supermarket                                  1\n",
       "GRAND PRICE FOOD CENTER                                 1\n",
       "Vernor Food Center                                      1\n",
       "University Food Center                                  1\n",
       "Gratiot Central Market                                  1\n",
       "Farmer John                                             1\n",
       "Sav-Mart Food Center                                    1\n",
       "U S Quality Food Center                                 1\n",
       "SAVE A LOT #977 4592                                    1\n",
       "Del Pointe Food Center                                  1\n",
       "Liberty Food Center                                     1\n",
       "Old Redford Food Center                                 1\n",
       "Mazen Foods                                             1\n",
       "Grace Supermarket (Morang Supermarket)                  1\n",
       "Fair Line Food Center                                   1\n",
       "Garden Fresh Marketplace (La Guadalupana El Mercado)    1\n",
       "Food Farm Market                                        1\n",
       "Food Giant                                              1\n",
       "Pick N Save Market                                      1\n",
       "Parkway Foods                                           1\n",
       "ROYAL FRESH MARKET                                      1\n",
       "Seven Mile Food                                         1\n",
       "                                                       ..\n",
       "Honey Bee La Colmena                                    1\n",
       "Family Fair Food Center                                 1\n",
       "Gigante Prince Valley Supermercado                      1\n",
       "Atlas Market                                            1\n",
       "Livernois Supermarket                                   1\n",
       "Good Stuff Market                                       1\n",
       "SEAWAY MARKETPLACE                                      1\n",
       "Saturn Super Foods                                      1\n",
       "New Merchant Food Center                                1\n",
       "Indian Village Market                                   1\n",
       "Lance's Hometown Market                                 1\n",
       "PAPAYA FRUIT MARKET                                     1\n",
       "City Market                                             1\n",
       "Apollo Market                                           1\n",
       "Seven Star Food Center                                  1\n",
       "Superland Market                                        1\n",
       "Harper Food Center                                      1\n",
       "Harbortown Market                                       1\n",
       "King Cole Foods                                         1\n",
       "La Fiesta Market                                        1\n",
       "Kit Kat Supermarket                                     1\n",
       "Imperial Fresh - Schaefer                               1\n",
       "E & L Supermercado                                      1\n",
       "Imperial Supermarket                                    1\n",
       "Americana Foods                                         1\n",
       "Value Save Food Center                                  1\n",
       "Azteca Supermercado                                     1\n",
       "Whole Foods                                             1\n",
       "Lafayette Foods                                         1\n",
       "Savon Foods Super Store                                 1\n",
       "Name: Store_Name, Length: 62, dtype: int64"
      ]
     },
     "execution_count": 13,
     "metadata": {},
     "output_type": "execute_result"
    }
   ],
   "source": [
    "df.Store_Name.value_counts()"
   ]
  },
  {
   "cell_type": "code",
   "execution_count": null,
   "metadata": {},
   "outputs": [],
   "source": []
  }
 ],
 "metadata": {
  "kernelspec": {
   "display_name": "Python 3",
   "language": "python",
   "name": "python3"
  },
  "language_info": {
   "codemirror_mode": {
    "name": "ipython",
    "version": 3
   },
   "file_extension": ".py",
   "mimetype": "text/x-python",
   "name": "python",
   "nbconvert_exporter": "python",
   "pygments_lexer": "ipython3",
   "version": "3.7.3"
  }
 },
 "nbformat": 4,
 "nbformat_minor": 2
}
