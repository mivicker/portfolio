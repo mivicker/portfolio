{
 "cells": [
  {
   "cell_type": "markdown",
   "metadata": {},
   "source": [
    "<h1>Journeys in reversing a string</h1>\n",
    "<p>Early on when I was learning to code, I was watching a youtube video of a coding interview and the opening question was \"how would you reverse a string?\"</p>\n",
    "<p>It's a very simple task, but I gather that the interviewer asked it because it is a good test case to demonstrate understanding of the basic workings of Python's central data structures.</p>\n",
    "<p>I've come to like it because it's a quick exercise to try out new ideas as I become comfortable with them, as you will see below.</p>"
   ]
  },
  {
   "cell_type": "code",
   "execution_count": 110,
   "metadata": {},
   "outputs": [],
   "source": [
    "import string\n",
    "import random\n",
    "from timeit import timeit\n",
    "\n",
    "#This function makes it easy to test each iteration \n",
    "#with timeit while keeping the functions pure.\n",
    "def close_over_string(func, string):\n",
    "    return lambda: func(string)\n",
    "\n",
    "#This creates a random 100,000 char long string to test the reverse.\n",
    "def generate_word(length):    \n",
    "    letters = string.ascii_lowercase\n",
    "    word = []\n",
    "    for i in range(length):\n",
    "        word.append(random.choice(letters))\n",
    "    return ''.join(word)\n",
    "\n",
    "word = generate_word(100000)"
   ]
  },
  {
   "cell_type": "markdown",
   "metadata": {},
   "source": [
    "<h2>String Concatenation</h2>\n",
    "<p>The first solution offered in the video looked something like this.</p>"
   ]
  },
  {
   "cell_type": "code",
   "execution_count": 99,
   "metadata": {},
   "outputs": [
    {
     "data": {
      "text/plain": [
       "325.8597129200007"
      ]
     },
     "execution_count": 99,
     "metadata": {},
     "output_type": "execute_result"
    }
   ],
   "source": [
    "def reverse(string):\n",
    "    reverse_string = ''\n",
    "    for i in range(len(string)):\n",
    "        next_char = string[i]\n",
    "        reverse_string = next_char + reverse_string\n",
    "        \n",
    "    return reverse_string\n",
    "\n",
    "harv_rev = close_over_string(reverse, word)\n",
    "timeit(harv_rev, number=1000)"
   ]
  },
  {
   "cell_type": "markdown",
   "metadata": {},
   "source": [
    "<p>This does work, but there is a detail that keeps it from being the best option. Strings are immutable in Python, which means when you do concatenation with the \"+\" operator, each character in \"reverse_string\" must be iterated through as it is added. This makes the complexity tend toward n<sup>2</sup>. As the test shows, the time it takes to run this on a large string is <i>long</i>.</p>\n",
    "<h2>Iteration with lists</h2>\n",
    "<p>When I write the string reverse function explicitly with simple iteration, this is what I come up with:</p> "
   ]
  },
  {
   "cell_type": "code",
   "execution_count": 97,
   "metadata": {},
   "outputs": [
    {
     "data": {
      "text/plain": [
       "18.737893658999383"
      ]
     },
     "execution_count": 97,
     "metadata": {},
     "output_type": "execute_result"
    }
   ],
   "source": [
    "def reverse_while(string):\n",
    "    lst = list(string)\n",
    "    rev = []\n",
    "    while lst:\n",
    "        next_char = lst.pop()\n",
    "        rev.append(next_char)\n",
    "    return ''.join(rev)\n",
    "\n",
    "rev_while = close_over_string(reverse_while, word)\n",
    "timeit(rev_while, number=1000)"
   ]
  },
  {
   "cell_type": "markdown",
   "metadata": {},
   "source": [
    "<p>As you can see, much faster, but more importantly it uses the stack-like character of Python lists to assemble the string backwards, so linear time.</p>\n",
    "<p>Next I tried an iteration with a classic style for loop with an index (though running backwards), to see if slicing into the string was faster than first casting to a list.</p>"
   ]
  },
  {
   "cell_type": "code",
   "execution_count": 98,
   "metadata": {},
   "outputs": [
    {
     "data": {
      "text/plain": [
       "21.962176830998942"
      ]
     },
     "execution_count": 98,
     "metadata": {},
     "output_type": "execute_result"
    }
   ],
   "source": [
    "def reverse_index(string):\n",
    "    rev = []\n",
    "    for i in range(len(string),0, -1):\n",
    "        rev.append(string[i - 1])\n",
    "    return ''.join(rev)\n",
    "\n",
    "rev_idx = close_over_string(reverse_index, word)\n",
    "timeit(rev_idx, number=1000)"
   ]
  },
  {
   "cell_type": "markdown",
   "metadata": {},
   "source": [
    "<p>Turns out, no, it's not.</p>"
   ]
  },
  {
   "cell_type": "code",
   "execution_count": 70,
   "metadata": {},
   "outputs": [
    {
     "data": {
      "text/plain": [
       "2.0472326929998417"
      ]
     },
     "execution_count": 70,
     "metadata": {},
     "output_type": "execute_result"
    }
   ],
   "source": [
    "timeit(reverse_c, number = 1000)"
   ]
  },
  {
   "cell_type": "markdown",
   "metadata": {},
   "source": [
    "<h2>Recursion</h2>\n",
    "<p>Doing this task with recursion I would argue makes for a cleaner statement of the task than iterative or string concatenation. However, recursion isn't great in Python. It will give a max recursion depth error (though this is adjustable), and it's kind of slow. When I time the recursive reverse against even the n<sup>2</sup> string concat it doesn't hold up. Not sure if it's only recursion or if there is another reason why this takes so long.</p>"
   ]
  },
  {
   "cell_type": "code",
   "execution_count": 116,
   "metadata": {},
   "outputs": [
    {
     "name": "stdout",
     "output_type": "stream",
     "text": [
      "Recursive Reverse\n",
      "1.8846817379999266\n",
      "Iterative Reverse\n",
      "0.34920748500007903\n",
      "String Concat Reverse\n",
      "0.7148201039999549\n"
     ]
    }
   ],
   "source": [
    "short_word = generate_word(2000)\n",
    "\n",
    "def recursive_rev(string):\n",
    "    if string:\n",
    "        return string[-1] + recursive_rev(string[:-1])\n",
    "    return ''\n",
    "\n",
    "rec_rev = close_over_string(recursive_rev, short_word)\n",
    "rev_while = close_over_string(reverse_while, short_word)\n",
    "rev_concat = close_over_string(reverse, short_word)\n",
    "\n",
    "print(\"Recursive Reverse\")\n",
    "print(timeit(rec_rev, number = 1000))\n",
    "print(\"Iterative Reverse\")\n",
    "print(timeit(rev_while, number = 1000))\n",
    "print(\"String Concat Reverse\")\n",
    "print(timeit(rev_concat, number = 1000))"
   ]
  },
  {
   "cell_type": "markdown",
   "metadata": {},
   "source": [
    "<p>ADD TAIL RECURSION EXAMPLE</p>"
   ]
  },
  {
   "cell_type": "markdown",
   "metadata": {},
   "source": [
    "<h2>Slicing (or how I would reverse a string IRL)</h2>\n",
    "<p>Python's slicing feature is I think the cleanest, and certainly the most performant way to approach this problem. Arguably It sacrifices readibility and explicitness, but most Python programmers that I interact with are very familiar with slicing.</p>"
   ]
  },
  {
   "cell_type": "code",
   "execution_count": 124,
   "metadata": {},
   "outputs": [
    {
     "data": {
      "text/plain": [
       "0.0547043090009538"
      ]
     },
     "execution_count": 124,
     "metadata": {},
     "output_type": "execute_result"
    }
   ],
   "source": [
    "def reverse_slice(string):\n",
    "    return string[::-1]\n",
    "\n",
    "rev_slice = close_over_string(reverse_slice, word)\n",
    "\n",
    "timeit(rev_slice, number=1000)"
   ]
  },
  {
   "cell_type": "markdown",
   "metadata": {},
   "source": [
    "<h2>Exploring Laziness</h2>\n",
    "<p>"
   ]
  },
  {
   "cell_type": "code",
   "execution_count": null,
   "metadata": {},
   "outputs": [],
   "source": []
  }
 ],
 "metadata": {
  "kernelspec": {
   "display_name": "Python 3",
   "language": "python",
   "name": "python3"
  },
  "language_info": {
   "codemirror_mode": {
    "name": "ipython",
    "version": 3
   },
   "file_extension": ".py",
   "mimetype": "text/x-python",
   "name": "python",
   "nbconvert_exporter": "python",
   "pygments_lexer": "ipython3",
   "version": "3.8.3"
  }
 },
 "nbformat": 4,
 "nbformat_minor": 4
}
