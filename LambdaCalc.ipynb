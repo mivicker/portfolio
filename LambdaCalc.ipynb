{
 "cells": [
  {
   "cell_type": "code",
   "execution_count": null,
   "metadata": {},
   "outputs": [],
   "source": [
    "\"\"\" \n",
    "THE GRAMMAR:\n",
    "\n",
    "<exp> ::= <var>\n",
    "        |  <exp>(<exp>)\n",
    "        |  lambda <var>: <exp>\n",
    "        |  (<exp>)\n",
    "\n",
    "<var> is a legal variable name\n",
    "\n",
    "\"\"\"\n",
    "\n",
    "\"\"\"\n",
    "McCarthy-Style conditionals\n",
    "\n",
    "<exp> if <condition> else <exp>\n",
    "\"\"\""
   ]
  },
  {
   "cell_type": "code",
   "execution_count": 32,
   "metadata": {},
   "outputs": [],
   "source": [
    "TRUE = lambda true_value: lambda false_value: true_value()\n",
    "FALSE = lambda true_value: lambda false_value: false_value()\n",
    "\n",
    "\"\"\"\n",
    "In computer programming, a thunk is a subroutine used to inject an \n",
    "additional calculation into another subroutine. Thunks are primarily used \n",
    "to delay a calculation until its result is needed, or to insert operations \n",
    "at the beginning or end of the other subroutine. They have many other \n",
    "applications in compiler code generation and modular programming.\n",
    "\n",
    "The term originated as a humorous past participle of \"think\". That is, a \n",
    "\"thunk value\" becomes available after its calculation routine is thought \n",
    "through, or executed.\n",
    "\"\"\"\n",
    "\n",
    "IF = lambda cond: lambda true_value: lambda false_value: cond(lambda: true_value)(lambda: false_value)"
   ]
  },
  {
   "cell_type": "code",
   "execution_count": 33,
   "metadata": {},
   "outputs": [
    {
     "name": "stdout",
     "output_type": "stream",
     "text": [
      "Harvey\n",
      "Susu\n"
     ]
    }
   ],
   "source": [
    "tru = \"Harvey\"\n",
    "fls = \"Susu\"\n",
    "\n",
    "print(IF(TRUE)(tru)(fls))\n",
    "print(IF(FALSE)(tru)(fls))"
   ]
  },
  {
   "cell_type": "code",
   "execution_count": 34,
   "metadata": {},
   "outputs": [],
   "source": [
    "ZERO  = lambda f: lambda z: z\n",
    "ONE   = lambda f: lambda z: f(z)\n",
    "TWO   = lambda f: lambda z: f(f(z))\n",
    "THREE = lambda f: lambda z: f(f(f(z)))"
   ]
  },
  {
   "cell_type": "code",
   "execution_count": 37,
   "metadata": {},
   "outputs": [],
   "source": [
    "compose = lambda f: lambda g: lambda x: f(g(x))"
   ]
  },
  {
   "cell_type": "code",
   "execution_count": 47,
   "metadata": {},
   "outputs": [],
   "source": [
    "def numeral(n):\n",
    "    return lambda f: lambda z: z if n==0 else f(numeral(n - 1)(f)(z))\n",
    "\n",
    "natify = lambda c: c(lambda x: x + 1)(0)"
   ]
  },
  {
   "cell_type": "code",
   "execution_count": 59,
   "metadata": {},
   "outputs": [
    {
     "data": {
      "text/plain": [
       "10"
      ]
     },
     "execution_count": 59,
     "metadata": {},
     "output_type": "execute_result"
    }
   ],
   "source": [
    "TEN = numeral(10)\n",
    "natify(TEN)"
   ]
  },
  {
   "cell_type": "code",
   "execution_count": 97,
   "metadata": {},
   "outputs": [
    {
     "data": {
      "text/plain": [
       "[4, 8, 12, 16, 20]"
      ]
     },
     "execution_count": 97,
     "metadata": {},
     "output_type": "execute_result"
    }
   ],
   "source": [
    "SUCC = lambda n: lambda f: lambda z: f(n(f)(z))\n",
    "[x for x in map(SUCC(ONE)(lambda x: x * 2), [1,2,3,4,5])]"
   ]
  },
  {
   "cell_type": "code",
   "execution_count": 98,
   "metadata": {},
   "outputs": [
    {
     "data": {
      "text/plain": [
       "[4, 8, 12, 16, 20]"
      ]
     },
     "execution_count": 98,
     "metadata": {},
     "output_type": "execute_result"
    }
   ],
   "source": [
    "[x for x in map(lambda x: x * 2**2, [1,2,3,4,5])]"
   ]
  },
  {
   "cell_type": "code",
   "execution_count": 99,
   "metadata": {},
   "outputs": [],
   "source": [
    "SUM = lambda n: lambda m: lambda f: lambda z: n(f)(m(f)(z))"
   ]
  },
  {
   "cell_type": "code",
   "execution_count": 101,
   "metadata": {},
   "outputs": [
    {
     "data": {
      "text/plain": [
       "5"
      ]
     },
     "execution_count": 101,
     "metadata": {},
     "output_type": "execute_result"
    }
   ],
   "source": [
    "natify(SUM(TWO)(THREE))"
   ]
  },
  {
   "cell_type": "code",
   "execution_count": 102,
   "metadata": {},
   "outputs": [],
   "source": [
    "NIL = lambda onnil: lambda onlist: onnil()"
   ]
  },
  {
   "cell_type": "code",
   "execution_count": 104,
   "metadata": {},
   "outputs": [],
   "source": [
    "CONS = lambda hd: lambda tl: lambda onnil: lambda onlist: onlist(hd)(tl)"
   ]
  },
  {
   "cell_type": "code",
   "execution_count": 105,
   "metadata": {},
   "outputs": [],
   "source": [
    "NILP = lambda list: list (lambda: TRUE) (lambda hd: lambda tl: FALSE)"
   ]
  },
  {
   "cell_type": "code",
   "execution_count": 112,
   "metadata": {},
   "outputs": [],
   "source": [
    "HEAD = lambda list: list (VOID) (lambda hd: lambda tl: hd)\n",
    "TAIL = lambda list: list (VOID) (lambda hd: lambda tl: tl)"
   ]
  },
  {
   "cell_type": "code",
   "execution_count": 113,
   "metadata": {},
   "outputs": [],
   "source": [
    "PAIR = lambda a: lambda b: lambda f: f(a)(b)"
   ]
  },
  {
   "cell_type": "code",
   "execution_count": 114,
   "metadata": {},
   "outputs": [],
   "source": [
    "onetwo = PAIR(1)(2)"
   ]
  },
  {
   "cell_type": "code",
   "execution_count": 115,
   "metadata": {},
   "outputs": [],
   "source": [
    "LEFT = lambda p: p(lambda a: lambda b: a)"
   ]
  },
  {
   "cell_type": "code",
   "execution_count": 116,
   "metadata": {},
   "outputs": [
    {
     "data": {
      "text/plain": [
       "1"
      ]
     },
     "execution_count": 116,
     "metadata": {},
     "output_type": "execute_result"
    }
   ],
   "source": [
    "LEFT(onetwo)"
   ]
  },
  {
   "cell_type": "code",
   "execution_count": 117,
   "metadata": {},
   "outputs": [],
   "source": [
    "RIGHT = lambda p: p(lambda a: lambda b: b)"
   ]
  },
  {
   "cell_type": "code",
   "execution_count": 118,
   "metadata": {},
   "outputs": [
    {
     "data": {
      "text/plain": [
       "2"
      ]
     },
     "execution_count": 118,
     "metadata": {},
     "output_type": "execute_result"
    }
   ],
   "source": [
    "RIGHT(onetwo)"
   ]
  },
  {
   "cell_type": "code",
   "execution_count": 120,
   "metadata": {},
   "outputs": [],
   "source": [
    "smlist = PAIR(1)(PAIR(2)(3))"
   ]
  },
  {
   "cell_type": "code",
   "execution_count": 121,
   "metadata": {},
   "outputs": [
    {
     "data": {
      "text/plain": [
       "1"
      ]
     },
     "execution_count": 121,
     "metadata": {},
     "output_type": "execute_result"
    }
   ],
   "source": [
    "LEFT(smlist)"
   ]
  },
  {
   "cell_type": "code",
   "execution_count": 122,
   "metadata": {},
   "outputs": [
    {
     "data": {
      "text/plain": [
       "<function __main__.<lambda>.<locals>.<lambda>.<locals>.<lambda>(f)>"
      ]
     },
     "execution_count": 122,
     "metadata": {},
     "output_type": "execute_result"
    }
   ],
   "source": [
    "RIGHT(smlist)"
   ]
  },
  {
   "cell_type": "code",
   "execution_count": 124,
   "metadata": {},
   "outputs": [
    {
     "data": {
      "text/plain": [
       "2"
      ]
     },
     "execution_count": 124,
     "metadata": {},
     "output_type": "execute_result"
    }
   ],
   "source": [
    "LEFT(RIGHT(smlist))"
   ]
  },
  {
   "cell_type": "code",
   "execution_count": 125,
   "metadata": {},
   "outputs": [],
   "source": [
    "harvey = PAIR(\"H\")(PAIR(\"a\")(PAIR(\"r\")(PAIR(\"v\")(PAIR(\"e\")(\"y\")))))"
   ]
  },
  {
   "cell_type": "code",
   "execution_count": 153,
   "metadata": {},
   "outputs": [
    {
     "data": {
      "text/plain": [
       "'a'"
      ]
     },
     "execution_count": 153,
     "metadata": {},
     "output_type": "execute_result"
    }
   ],
   "source": [
    "LEFT(RIGHT(harvey))"
   ]
  },
  {
   "cell_type": "code",
   "execution_count": 155,
   "metadata": {},
   "outputs": [
    {
     "data": {
      "text/plain": [
       "'e'"
      ]
     },
     "execution_count": 155,
     "metadata": {},
     "output_type": "execute_result"
    }
   ],
   "source": [
    "LEFT(RIGHT(RIGHT(RIGHT(RIGHT(harvey)))))"
   ]
  },
  {
   "cell_type": "code",
   "execution_count": 147,
   "metadata": {},
   "outputs": [
    {
     "data": {
      "text/plain": [
       "'arvey'"
      ]
     },
     "execution_count": 147,
     "metadata": {},
     "output_type": "execute_result"
    }
   ],
   "source": [
    "\"Harvey\"[1:]"
   ]
  },
  {
   "cell_type": "code",
   "execution_count": 179,
   "metadata": {},
   "outputs": [],
   "source": [
    "#Hackversion\n",
    "\n",
    "PAIR = lambda a: lambda b: lambda f: f(a)(b)\n",
    "func_type = type(PAIR)\n",
    "\n",
    "def make_pair(string):\n",
    "    if len(string)>2:\n",
    "        return PAIR(string[0])(make_pair(string[1:]))\n",
    "    return PAIR(string[0])(string[1])\n",
    "\n",
    "def reverse_pair(pair):\n",
    "    if not (type(RIGHT(pair)) == func_type):\n",
    "        return PAIR(reverse_pair(RIGHT(pair)))(LEFT(pair))\n",
    "    return PAIR(RIGHT(pair))(LEFT(pair))\n",
    "\n",
    "def print_pair(pair):\n",
    "    pass"
   ]
  },
  {
   "cell_type": "code",
   "execution_count": 180,
   "metadata": {},
   "outputs": [],
   "source": [
    "harvey = make_pair(\"Harvey\")"
   ]
  },
  {
   "cell_type": "code",
   "execution_count": 183,
   "metadata": {},
   "outputs": [],
   "source": [
    "yevrah = reverse_pair(harvey)"
   ]
  },
  {
   "cell_type": "code",
   "execution_count": 299,
   "metadata": {},
   "outputs": [
    {
     "ename": "TypeError",
     "evalue": "'Node' object is not callable",
     "output_type": "error",
     "traceback": [
      "\u001b[0;31m---------------------------------------------------------------------------\u001b[0m",
      "\u001b[0;31mTypeError\u001b[0m                                 Traceback (most recent call last)",
      "\u001b[0;32m<ipython-input-299-97517f074f12>\u001b[0m in \u001b[0;36m<module>\u001b[0;34m\u001b[0m\n\u001b[0;32m----> 1\u001b[0;31m \u001b[0mLEFT\u001b[0m\u001b[0;34m(\u001b[0m\u001b[0myevrah\u001b[0m\u001b[0;34m)\u001b[0m\u001b[0;34m\u001b[0m\u001b[0;34m\u001b[0m\u001b[0m\n\u001b[0m",
      "\u001b[0;32m<ipython-input-115-a88c0afbedb3>\u001b[0m in \u001b[0;36m<lambda>\u001b[0;34m(p)\u001b[0m\n\u001b[0;32m----> 1\u001b[0;31m \u001b[0mLEFT\u001b[0m \u001b[0;34m=\u001b[0m \u001b[0;32mlambda\u001b[0m \u001b[0mp\u001b[0m\u001b[0;34m:\u001b[0m \u001b[0mp\u001b[0m\u001b[0;34m(\u001b[0m\u001b[0;32mlambda\u001b[0m \u001b[0ma\u001b[0m\u001b[0;34m:\u001b[0m \u001b[0;32mlambda\u001b[0m \u001b[0mb\u001b[0m\u001b[0;34m:\u001b[0m \u001b[0ma\u001b[0m\u001b[0;34m)\u001b[0m\u001b[0;34m\u001b[0m\u001b[0;34m\u001b[0m\u001b[0m\n\u001b[0m",
      "\u001b[0;31mTypeError\u001b[0m: 'Node' object is not callable"
     ]
    }
   ],
   "source": [
    "LEFT(yevrah)"
   ]
  },
  {
   "cell_type": "code",
   "execution_count": 177,
   "metadata": {},
   "outputs": [
    {
     "data": {
      "text/plain": [
       "'a'"
      ]
     },
     "execution_count": 177,
     "metadata": {},
     "output_type": "execute_result"
    }
   ],
   "source": [
    "LEFT(RIGHT(harvey))"
   ]
  },
  {
   "cell_type": "code",
   "execution_count": 292,
   "metadata": {},
   "outputs": [],
   "source": [
    "## OOP Prototype of the lambda reverse:\n",
    "\n",
    "\n",
    "class Tree:\n",
    "    pass\n",
    "\n",
    "class Leaf(Tree):\n",
    "    def __init__(self, val):\n",
    "        self.val = val\n",
    "        \n",
    "    def __bool__(self):\n",
    "        return bool(self.val)\n",
    "        \n",
    "    def __str__(self):\n",
    "        return f\"{self.val}\"\n",
    "        \n",
    "    def reverse(self):\n",
    "        return Leaf(self.val)\n",
    "        \n",
    "class Node(Tree):\n",
    "    def __init__(self, left, right):\n",
    "        self.left = left\n",
    "        self.right = right\n",
    "        \n",
    "    def __str__(self):\n",
    "        return f\"({self.left.__str__()} {self.right.__str__()})\"\n",
    "    \n",
    "    def __bool__(self):\n",
    "        return bool(self.left) or bool(self.right)\n",
    "    \n",
    "    def reverse(self):\n",
    "        #This is not an inplace reverse.\n",
    "        return Node(self.right.reverse(), self.left.reverse())\n",
    "    \n",
    "def str_to_tree(string):\n",
    "    if string:\n",
    "        return Node(Leaf(string[0]), str_to_tree(string[1:]))\n",
    "    return Leaf(None)\n",
    "\n",
    "def tree_to_string(tree):\n",
    "    if tree:\n",
    "        return str(tree.left) + tree_to_string(tree.right)\n",
    "    return ''\n",
    "\n",
    "def rev_str_tree(str_tree, new_tree = Leaf(None)):\n",
    "    if not str_tree:\n",
    "        return new_tree\n",
    "    return rev_str_tree(str_tree.right, new_tree = Node(str_tree.left, new_tree))"
   ]
  },
  {
   "cell_type": "code",
   "execution_count": 301,
   "metadata": {},
   "outputs": [
    {
     "name": "stdout",
     "output_type": "stream",
     "text": [
      "(H (a (r (v (e (y None))))))\n",
      "(y (e (v (r (a (H None))))))\n",
      "Harvey\n",
      "yevraH\n"
     ]
    }
   ],
   "source": [
    "harv_tree = str_to_tree(\"Harvey\")\n",
    "print(harv_tree)\n",
    "yevr_tree = rev_str_tree(harv_tree)\n",
    "print(yevrah)\n",
    "print(tree_to_string(harv_tree))\n",
    "print(tree_to_string(yevr_tree))"
   ]
  },
  {
   "cell_type": "code",
   "execution_count": 302,
   "metadata": {},
   "outputs": [
    {
     "name": "stdout",
     "output_type": "stream",
     "text": [
      "((((((None y) e) v) r) a) H)\n",
      "((((((None H) a) r) v) e) y)\n"
     ]
    }
   ],
   "source": [
    "print(harv_tree.reverse())\n",
    "print(yevr_tree.reverse())"
   ]
  },
  {
   "cell_type": "code",
   "execution_count": 296,
   "metadata": {},
   "outputs": [
    {
     "data": {
      "text/plain": [
       "'yevrah'"
      ]
     },
     "execution_count": 296,
     "metadata": {},
     "output_type": "execute_result"
    }
   ],
   "source": [
    "\"harvey\"[::-1]"
   ]
  },
  {
   "cell_type": "code",
   "execution_count": 298,
   "metadata": {},
   "outputs": [
    {
     "data": {
      "text/plain": [
       "'yevrah'"
      ]
     },
     "execution_count": 298,
     "metadata": {},
     "output_type": "execute_result"
    }
   ],
   "source": [
    "def reverse(string):\n",
    "    lst = list(string)\n",
    "    rev = []\n",
    "    while lst:\n",
    "        next_char = lst.pop()\n",
    "        rev.append(next_char)\n",
    "        \n",
    "    return ''.join(rev)\n",
    "\n",
    "reverse(\"harvey\")"
   ]
  },
  {
   "cell_type": "code",
   "execution_count": 309,
   "metadata": {},
   "outputs": [
    {
     "data": {
      "text/plain": [
       "8"
      ]
     },
     "execution_count": 309,
     "metadata": {},
     "output_type": "execute_result"
    }
   ],
   "source": [
    "U = lambda f: f(f)\n",
    "U(U(lambda x: x))"
   ]
  },
  {
   "cell_type": "code",
   "execution_count": 314,
   "metadata": {},
   "outputs": [],
   "source": [
    "fact = U(lambda f: lambda n: 1 if n <= 0 else n*(U(f))(n-1))"
   ]
  },
  {
   "cell_type": "code",
   "execution_count": 320,
   "metadata": {},
   "outputs": [
    {
     "data": {
      "text/plain": [
       "[1, 1, 2, 6, 24, 120, 720, 5040, 40320]"
      ]
     },
     "execution_count": 320,
     "metadata": {},
     "output_type": "execute_result"
    }
   ],
   "source": [
    "[*map(fact, range(9))]"
   ]
  },
  {
   "cell_type": "code",
   "execution_count": 322,
   "metadata": {},
   "outputs": [],
   "source": [
    "Y = lambda F: F(lambda x:Y(F)(x))"
   ]
  },
  {
   "cell_type": "code",
   "execution_count": 323,
   "metadata": {},
   "outputs": [
    {
     "data": {
      "text/plain": [
       "120"
      ]
     },
     "execution_count": 323,
     "metadata": {},
     "output_type": "execute_result"
    }
   ],
   "source": [
    "Y(lambda f: lambda n: 1 if n <= 0 else n*f(n-1))(5)"
   ]
  },
  {
   "cell_type": "code",
   "execution_count": 324,
   "metadata": {},
   "outputs": [],
   "source": [
    "Y = U(lambda h: lambda F: F(lambda x:U(h)(F)(x)))"
   ]
  },
  {
   "cell_type": "code",
   "execution_count": 330,
   "metadata": {},
   "outputs": [
    {
     "data": {
      "text/plain": [
       "120"
      ]
     },
     "execution_count": 330,
     "metadata": {},
     "output_type": "execute_result"
    }
   ],
   "source": [
    "Y(lambda f: lambda n: 1 if n <= 0 else n*f(n-1))(5)"
   ]
  },
  {
   "cell_type": "code",
   "execution_count": 329,
   "metadata": {},
   "outputs": [],
   "source": [
    "Y = ((lambda h: lambda F: F(lambda x:h(h)(F)(x)))\n",
    "     (lambda h: lambda F: F(lambda x:h(h)(F)(x))))"
   ]
  },
  {
   "cell_type": "code",
   "execution_count": 331,
   "metadata": {},
   "outputs": [],
   "source": [
    "#Lists/Keep driving at this part\n",
    "\n",
    "NIL = lambda onnil: lambda onlist: onnil()\n",
    "CONS = (lambda hd: lambda tl:\n",
    "         lambda onnil: lambda onlist: onlist(hd)(tl))\n",
    "HEAD = lambda list: list (VOID) (lambda hd: lambda tl: hd)\n",
    "TAIL = lambda list: list (VOID) (lambda hd: lambda tl: tl)"
   ]
  },
  {
   "cell_type": "code",
   "execution_count": 337,
   "metadata": {},
   "outputs": [],
   "source": [
    "listtwo = CONS(4)(CONS(3)(NIL))"
   ]
  },
  {
   "cell_type": "code",
   "execution_count": 338,
   "metadata": {},
   "outputs": [
    {
     "data": {
      "text/plain": [
       "4"
      ]
     },
     "execution_count": 338,
     "metadata": {},
     "output_type": "execute_result"
    }
   ],
   "source": [
    "HEAD(listtwo)"
   ]
  },
  {
   "cell_type": "code",
   "execution_count": 341,
   "metadata": {},
   "outputs": [
    {
     "data": {
      "text/plain": [
       "<function __main__.<lambda>(onnil)>"
      ]
     },
     "execution_count": 341,
     "metadata": {},
     "output_type": "execute_result"
    }
   ],
   "source": [
    "TAIL(TAIL(listtwo))"
   ]
  },
  {
   "cell_type": "code",
   "execution_count": 335,
   "metadata": {},
   "outputs": [],
   "source": [
    "VOID = lambda void: void"
   ]
  }
 ],
 "metadata": {
  "kernelspec": {
   "display_name": "Python 3",
   "language": "python",
   "name": "python3"
  },
  "language_info": {
   "codemirror_mode": {
    "name": "ipython",
    "version": 3
   },
   "file_extension": ".py",
   "mimetype": "text/x-python",
   "name": "python",
   "nbconvert_exporter": "python",
   "pygments_lexer": "ipython3",
   "version": "3.7.3"
  }
 },
 "nbformat": 4,
 "nbformat_minor": 2
}
