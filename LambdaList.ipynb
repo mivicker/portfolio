{
 "cells": [
  {
   "cell_type": "code",
   "execution_count": 2,
   "metadata": {},
   "outputs": [],
   "source": [
    "#Building lists with lambda expressions.\n",
    "#Adapted from http://matt.might.net/articles/python-church-y-combinator/\n",
    "\n",
    "ID = lambda x: x\n",
    "\n",
    "TRUE = lambda x: lambda y: x\n",
    "FALSE = lambda x: lambda y: y\n",
    "\n",
    "IF = lambda cond: lambda tru_val: lambda fls_val: cond(tru_val)(fls_val)\n",
    "\n",
    "NOT = lambda cond: cond(FALSE)(TRUE)\n",
    "\n",
    "CONS = (lambda hd: lambda tl:\n",
    "         lambda onnil: lambda onlist: onlist(hd)(tl))\n",
    "\n",
    "NIL = FALSE\n",
    "NILP = lambda list: list (lambda: TRUE) (lambda hd: lambda tl: FALSE)\n",
    "\n",
    "HEAD = lambda list: list (ID) (lambda hd: lambda tl: hd)\n",
    "TAIL = lambda list: list (ID) (lambda hd: lambda tl: tl)"
   ]
  },
  {
   "cell_type": "code",
   "execution_count": 3,
   "metadata": {},
   "outputs": [],
   "source": [
    "harv = CONS(\"H\")(CONS(\"a\")(CONS(\"r\")(CONS(\"v\"))))"
   ]
  },
  {
   "cell_type": "code",
   "execution_count": 4,
   "metadata": {},
   "outputs": [],
   "source": [
    "#Helper functions to encode a plain python string into our lambda list.\n",
    "\n",
    "def church_encode_string(string):\n",
    "    if string:\n",
    "        return CONS(string[0])(church_encode_string(string[1:]))\n",
    "    return FALSE\n",
    "\n",
    "def decode_church_string(ch_string):\n",
    "    if not NILP(ch_string)(True)(False): #Calling w/booleans to return a bool\n",
    "        return HEAD(ch_string) + decode_church_string(TAIL(ch_string))\n",
    "    return ''"
   ]
  },
  {
   "cell_type": "code",
   "execution_count": 61,
   "metadata": {},
   "outputs": [],
   "source": [
    "def fact(n):\n",
    "    if n == 0:\n",
    "        return 1\n",
    "    return n * fact(n-1)"
   ]
  },
  {
   "cell_type": "code",
   "execution_count": 23,
   "metadata": {},
   "outputs": [],
   "source": [
    "#Memoization\n",
    "#Unmemoized and very slow.\n",
    "def fib(n):\n",
    "    if n == 0:\n",
    "        return 0\n",
    "    if n == 1:\n",
    "        return 1\n",
    "    return fib(n-1) + fib(n-2)"
   ]
  },
  {
   "cell_type": "code",
   "execution_count": 8,
   "metadata": {},
   "outputs": [
    {
     "data": {
      "text/plain": [
       "55"
      ]
     },
     "execution_count": 8,
     "metadata": {},
     "output_type": "execute_result"
    }
   ],
   "source": [
    "fib(10)"
   ]
  },
  {
   "cell_type": "code",
   "execution_count": 24,
   "metadata": {},
   "outputs": [],
   "source": [
    "def memoize(f): #Lets just call these higher-order functions to avoid confusion with lin-alg functionals.\n",
    "    memo = {}\n",
    "    def helper(x):\n",
    "        if x not in memo:            \n",
    "            memo[x] = f(x)\n",
    "        return memo[x]\n",
    "    return helper"
   ]
  },
  {
   "cell_type": "code",
   "execution_count": 25,
   "metadata": {},
   "outputs": [],
   "source": [
    "fib_mem = memoize(fib)"
   ]
  },
  {
   "cell_type": "code",
   "execution_count": 57,
   "metadata": {},
   "outputs": [],
   "source": [
    "from timeit import timeit"
   ]
  },
  {
   "cell_type": "code",
   "execution_count": 19,
   "metadata": {},
   "outputs": [],
   "source": [
    "def reverse_tail(string, rev=''):\n",
    "    if string:\n",
    "        return reverse_tail(string[1:], rev= string[0] + rev)\n",
    "    return rev\n",
    "\n",
    "#This is definitely n^2"
   ]
  },
  {
   "cell_type": "code",
   "execution_count": 67,
   "metadata": {},
   "outputs": [
    {
     "name": "stdout",
     "output_type": "stream",
     "text": [
      "3.2265405000000555\n",
      "4.223699500000066\n"
     ]
    }
   ],
   "source": [
    "def tester(func, n):\n",
    "    return lambda: func(n)\n",
    "\n",
    "test_fact = tester(fact, 20)\n",
    "\n",
    "print(timeit(test_fact))\n",
    "\n",
    "test_fact_tail = tester(fact_tail, 20)\n",
    "\n",
    "print(timeit(test_fact_tail))"
   ]
  },
  {
   "cell_type": "code",
   "execution_count": 69,
   "metadata": {},
   "outputs": [
    {
     "data": {
      "text/plain": [
       "0"
      ]
     },
     "execution_count": 69,
     "metadata": {},
     "output_type": "execute_result"
    }
   ],
   "source": [
    "def fact_tail(n, total=1):\n",
    "    if n == 0:\n",
    "        return total\n",
    "    return fact_tail(n - 1, total = total * n)\n",
    "\n",
    "def fact_iter(n):\n",
    "    total = 1\n",
    "    for i in range(n + 1):\n",
    "        total *= i\n",
    "    return total\n",
    "\n",
    "fact_iter(10)"
   ]
  },
  {
   "cell_type": "code",
   "execution_count": 53,
   "metadata": {},
   "outputs": [
    {
     "data": {
      "text/plain": [
       "9227465"
      ]
     },
     "execution_count": 53,
     "metadata": {},
     "output_type": "execute_result"
    }
   ],
   "source": [
    "fib_mem(35)"
   ]
  },
  {
   "cell_type": "code",
   "execution_count": 51,
   "metadata": {},
   "outputs": [
    {
     "data": {
      "text/plain": [
       "{30: 832040,\n",
       " 20: 6765,\n",
       " 10: 55,\n",
       " 21: 10946,\n",
       " 32: 2178309,\n",
       " 33: 3524578,\n",
       " 34: 5702887,\n",
       " 35: 9227465}"
      ]
     },
     "execution_count": 51,
     "metadata": {},
     "output_type": "execute_result"
    }
   ],
   "source": [
    "fib_mem.__closure__[1].cell_contents"
   ]
  },
  {
   "cell_type": "code",
   "execution_count": 55,
   "metadata": {},
   "outputs": [
    {
     "data": {
      "text/plain": [
       "14930352"
      ]
     },
     "execution_count": 55,
     "metadata": {},
     "output_type": "execute_result"
    }
   ],
   "source": [
    "fib(36)"
   ]
  },
  {
   "cell_type": "code",
   "execution_count": 56,
   "metadata": {},
   "outputs": [
    {
     "data": {
      "text/plain": [
       "14930352"
      ]
     },
     "execution_count": 56,
     "metadata": {},
     "output_type": "execute_result"
    }
   ],
   "source": [
    "fib_mem(36)"
   ]
  },
  {
   "cell_type": "code",
   "execution_count": null,
   "metadata": {},
   "outputs": [],
   "source": []
  }
 ],
 "metadata": {
  "kernelspec": {
   "display_name": "Python 3",
   "language": "python",
   "name": "python3"
  },
  "language_info": {
   "codemirror_mode": {
    "name": "ipython",
    "version": 3
   },
   "file_extension": ".py",
   "mimetype": "text/x-python",
   "name": "python",
   "nbconvert_exporter": "python",
   "pygments_lexer": "ipython3",
   "version": "3.8.3"
  }
 },
 "nbformat": 4,
 "nbformat_minor": 4
}
